{
 "cells": [
  {
   "cell_type": "code",
   "execution_count": null,
   "metadata": {},
   "outputs": [],
   "source": [
    "from random import randint\n",
<<<<<<< HEAD
    "import pickle\n",
    "from keras.models import load_model\n",
    "from keras.preprocessing.sequence import pad_sequences\n",
    "import pandas as pd"
=======
    "from pickle\n",
    "from keras.models import load_model\n",
    "from keras.preprocessing.sequence import pad_sequences"
>>>>>>> a0ec06ccb7faefd23ffb94b02d96e333cc7def47
   ]
  },
  {
   "cell_type": "code",
   "execution_count": null,
   "metadata": {},
   "outputs": [],
   "source": [
<<<<<<< HEAD
    "ENGLISH_MODEL_PATH = 'models/english-20-model.h5'\n",
    "ENGLISH_TEXT_PATH = 'data/english/republic_sequences.txt'\n",
    "ENGLISH_TOKENIZER_PATH = 'tokenizers/english-20-tokenizer.pkl'\n",
    "\n",
    "CHINESE_MODEL_PATH = 'models/chinese-20-model.h5'\n",
    "CHINESE_TEXT_PATH = 'data/chinese/cleaned-chinese-education.csv'\n",
    "CHINESE_TOKENIZER_PATH = 'tokenizers/chinese-20-tokenizer.pkl'\n",
    "\n",
    "MALAY_MODEL_PATH = 'models/malay-24-model.h5'\n",
    "MALAY_TEXT_PATH = 'data/malay/cleaned-malay-emotions.csv'\n",
    "MALAY_TOKENIZER_PATH = 'tokenizers/malay-24-tokenizer.pkl'\n",
    "\n",
    "MALAYSIAN_MODEL_PATH = 'models/malaysian-20-model.h5'\n",
    "MALAYSIAN_TEXT_PATH = 'data/malaysian/cleaned-tweet.csv'\n",
    "MALAYSIAN_TOKENIZER_PATH = 'tokenizers/malaysian-20-tokenizer.pkl'\n",
    "\n",
    "seq_length = {'EN': 19, 'CN': 19, 'MY': 19, 'ML': 23}"
   ]
  },
  {
   "cell_type": "code",
   "execution_count": 6,
   "metadata": {},
   "outputs": [],
   "source": [
=======
>>>>>>> a0ec06ccb7faefd23ffb94b02d96e333cc7def47
    "# generate a sequence from a language model\n",
    "def generate_seq(model, tokenizer, seq_length, seed_text, n_words):\n",
    "    result = list()\n",
    "    in_text = seed_text\n",
    "    # generate a fixed number of words\n",
<<<<<<< HEAD
    "    # encode the text as integer\n",
    "    encoded = tokenizer.texts_to_sequences([in_text])[0]\n",
    "    # truncate sequences to a fixed length\n",
    "    encoded = pad_sequences([encoded], maxlen=seq_length, truncating='pre')\n",
    "    # predict probabilities for each word\n",
    "    # yhat = self.model.predict_classes(encoded, verbose=0)\n",
    "    predicted_l = list(tuple(enumerate(model.predict(encoded)[0])))\n",
    "    top_3 = sorted(predicted_l, key=lambda x: x[1], reverse=True)[:3]\n",
    "    print(top_3)\n",
    "    # map predicted word index to word\n",
    "    predicted_words = []\n",
    "    for i, word in enumerate(top_3):\n",
    "        for w in list(tokenizer.word_index.items()):\n",
    "            if w[1] == word[0]:\n",
    "                predicted_words.append({'word': w[0], 'probability': word[1]})\n",
    "    return predicted_words"
=======
    "    for _ in range(n_words):\n",
    "        # encode the text as integer\n",
    "        encoded = tokenizer.texts_to_sequences([in_text])[0]\n",
    "        # truncate sequences to a fixed length\n",
    "        encoded = pad_sequences([encoded], maxlen=seq_length, truncating='pre')\n",
    "        # predict probabilities for each word\n",
    "        yhat = model.predict_classes(encoded, verbose=0)\n",
    "        # map predicted word index to word\n",
    "        out_word = ''\n",
    "        for word, index in tokenizer.word_index.items():\n",
    "            if index == yhat:\n",
    "                out_word = word\n",
    "                break\n",
    "        # append to input\n",
    "        in_text += ' ' + out_word\n",
    "        result.append(out_word)\n",
    "    return ' '.join(result)"
>>>>>>> a0ec06ccb7faefd23ffb94b02d96e333cc7def47
   ]
  },
  {
   "cell_type": "code",
<<<<<<< HEAD
   "execution_count": 56,
   "metadata": {},
   "outputs": [],
   "source": [
    "# # load\n",
    "# in_filename = 'data/republic_sequences.txt'\n",
    "# with open(in_filename) as f:\n",
    "#     doc = f.read()\n",
    "# lines = doc.split('\\n')\n",
    "# lines = [' '.join(l.split(' ')[:20]) for l in lines[:4000]]\n",
    "# seq_length = len(lines[0].split()) - 1"
   ]
  },
  {
   "cell_type": "code",
   "execution_count": 57,
   "metadata": {},
   "outputs": [],
   "source": [
    "# in_filename = MALAYSIAN_TEXT_PATH\n",
    "\n",
    "# df = pd.read_csv(in_filename)\n",
    "# lines = list(df['text'])\n",
    "# # lines = [l for l in lines]\n",
    "\n",
    "# seq_length = len(lines[0].split(' ')) - 1\n",
    "\n",
    "# lines[:5]\n"
   ]
  },
  {
   "cell_type": "code",
   "execution_count": 58,
   "metadata": {},
   "outputs": [],
   "source": [
    "# seq_length"
=======
   "execution_count": null,
   "metadata": {},
   "outputs": [],
   "source": [
    "# load cleaned text sequences\n",
    "in_filename = 'republic_sequences.txt'\n",
    "doc = load_doc(in_filename)\n",
    "lines = doc.split('\\n')\n",
    "seq_length = len(lines[0].split()) - 1"
>>>>>>> a0ec06ccb7faefd23ffb94b02d96e333cc7def47
   ]
  },
  {
   "cell_type": "code",
<<<<<<< HEAD
   "execution_count": 7,
=======
   "execution_count": null,
>>>>>>> a0ec06ccb7faefd23ffb94b02d96e333cc7def47
   "metadata": {},
   "outputs": [],
   "source": [
    "# load the model\n",
<<<<<<< HEAD
    "model = load_model(MALAY_MODEL_PATH)"
=======
    "model = load_model(model_name)"
>>>>>>> a0ec06ccb7faefd23ffb94b02d96e333cc7def47
   ]
  },
  {
   "cell_type": "code",
<<<<<<< HEAD
   "execution_count": 8,
=======
   "execution_count": null,
>>>>>>> a0ec06ccb7faefd23ffb94b02d96e333cc7def47
   "metadata": {},
   "outputs": [],
   "source": [
    "# load the tokenizer\n",
<<<<<<< HEAD
    "tokenizer = pickle.load(open(MALAY_TOKENIZER_PATH, 'rb'))"
=======
    "tokenizer = pickle.load(open('tokenizer.pkl', 'rb'))"
>>>>>>> a0ec06ccb7faefd23ffb94b02d96e333cc7def47
   ]
  },
  {
   "cell_type": "code",
<<<<<<< HEAD
   "execution_count": 59,
=======
   "execution_count": null,
>>>>>>> a0ec06ccb7faefd23ffb94b02d96e333cc7def47
   "metadata": {},
   "outputs": [],
   "source": [
    "# select a seed text\n",
<<<<<<< HEAD
    "# seed_text = lines[randint(0,len(lines))]\n",
    "# print(seed_text + '\\n')"
=======
    "seed_text = lines[randint(0,len(lines))]\n",
    "print(seed_text + '\\n')"
>>>>>>> a0ec06ccb7faefd23ffb94b02d96e333cc7def47
   ]
  },
  {
   "cell_type": "code",
<<<<<<< HEAD
   "execution_count": 60,
   "metadata": {},
   "outputs": [
    {
     "name": "stdout",
     "output_type": "stream",
     "text": [
      "[(61, 0.96263695), (3, 0.013283299), (2, 0.0064469255)]\n",
      "[{'word': 'agak', 'probability': 0.96263695}, {'word': 'dan', 'probability': 0.013283299}, {'word': 'yang', 'probability': 0.0064469255}]\n"
     ]
    }
   ],
   "source": [
    "# generate new text\n",
    "generated = generate_seq(model, tokenizer, seq_length['ML'], 'dia', 1)\n",
    "print(generated)"
   ]
  },
  {
   "cell_type": "code",
   "execution_count": null,
   "metadata": {},
   "outputs": [],
   "source": []
=======
   "execution_count": null,
   "metadata": {},
   "outputs": [],
   "source": [
    "# generate new text\n",
    "generated = generate_seq(model, tokenizer, seq_length, seed_text, 50)\n",
    "print(generated)"
   ]
>>>>>>> a0ec06ccb7faefd23ffb94b02d96e333cc7def47
  }
 ],
 "metadata": {
  "kernelspec": {
   "display_name": "Python 3",
   "language": "python",
   "name": "python3"
  },
  "language_info": {
   "codemirror_mode": {
    "name": "ipython",
    "version": 3
   },
   "file_extension": ".py",
   "mimetype": "text/x-python",
   "name": "python",
   "nbconvert_exporter": "python",
   "pygments_lexer": "ipython3",
   "version": "3.5.2"
  }
 },
 "nbformat": 4,
 "nbformat_minor": 2
}
