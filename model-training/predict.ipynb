{
 "cells": [
  {
   "cell_type": "code",
   "execution_count": 2,
   "metadata": {},
   "outputs": [
    {
     "name": "stderr",
     "output_type": "stream",
     "text": [
      "Using TensorFlow backend.\n"
     ]
    }
   ],
   "source": [
    "from random import randint\n",
    "import pickle\n",
    "from keras.models import load_model\n",
    "from keras.preprocessing.sequence import pad_sequences\n",
    "import pandas as pd"
   ]
  },
  {
   "cell_type": "code",
   "execution_count": 6,
   "metadata": {},
   "outputs": [],
   "source": [
    "ENGLISH_MODEL_PATH = 'models/dage-english-2020-model.h5'\n",
    "ENGLISH_TEXT_PATH = 'data/english/republic_sequences.txt'\n",
    "ENGLISH_TOKENIZER_PATH = 'tokenizers/dage-english-2020-tokenizer.pkl'\n",
    "\n",
    "CHINESE_MODEL_PATH = 'models/chinese-20-model.h5'\n",
    "CHINESE_TEXT_PATH = 'data/chinese/cleaned-chinese-education.csv'\n",
    "CHINESE_TOKENIZER_PATH = 'tokenizers/chinese-20-tokenizer.pkl'\n",
    "\n",
    "MALAY_MODEL_PATH = 'models/dage-malay-model.h5'\n",
    "MALAY_TEXT_PATH = 'data/malay/cleaned-malay-emotions.csv'\n",
    "MALAY_TOKENIZER_PATH = 'tokenizers/dage-malay-tokenizer.pkl'\n",
    "\n",
    "MALAYSIAN_MODEL_PATH = 'models/malaysian-20-model.h5'\n",
    "MALAYSIAN_TEXT_PATH = 'data/malaysian/cleaned-tweet.csv'\n",
    "MALAYSIAN_TOKENIZER_PATH = 'tokenizers/malaysian-20-tokenizer.pkl'\n",
    "\n",
    "seq_length = {'EN': 19, 'CN': 19, 'MY': 19, 'ML': 23}"
   ]
  },
  {
   "cell_type": "code",
   "execution_count": 3,
   "metadata": {},
   "outputs": [],
   "source": [
    "# generate a sequence from a language model\n",
    "def generate_seq(model, tokenizer, seq_length, seed_text, n_words):\n",
    "    result = list()\n",
    "    in_text = seed_text\n",
    "    # generate a fixed number of words\n",
    "    # encode the text as integer\n",
    "    encoded = tokenizer.texts_to_sequences([in_text])[0]\n",
    "    # truncate sequences to a fixed length\n",
    "    encoded = pad_sequences([encoded], maxlen=seq_length, truncating='pre')\n",
    "    # predict probabilities for each word\n",
    "    # yhat = self.model.predict_classes(encoded, verbose=0)\n",
    "    predicted_l = list(tuple(enumerate(model.predict(encoded)[0])))\n",
    "    top_3 = sorted(predicted_l, key=lambda x: x[1], reverse=True)[:3]\n",
    "    print(top_3)\n",
    "    # map predicted word index to word\n",
    "    predicted_words = []\n",
    "    for i, word in enumerate(top_3):\n",
    "        for w in list(tokenizer.word_index.items()):\n",
    "            if w[1] == word[0]:\n",
    "                predicted_words.append({'word': w[0], 'probability': word[1]})\n",
    "    return predicted_words"
   ]
  },
  {
   "cell_type": "code",
   "execution_count": 56,
   "metadata": {},
   "outputs": [],
   "source": [
    "# # load\n",
    "# in_filename = 'data/republic_sequences.txt'\n",
    "# with open(in_filename) as f:\n",
    "#     doc = f.read()\n",
    "# lines = doc.split('\\n')\n",
    "# lines = [' '.join(l.split(' ')[:20]) for l in lines[:4000]]\n",
    "# seq_length = len(lines[0].split()) - 1"
   ]
  },
  {
   "cell_type": "code",
   "execution_count": 57,
   "metadata": {},
   "outputs": [],
   "source": [
    "# in_filename = MALAYSIAN_TEXT_PATH\n",
    "\n",
    "# df = pd.read_csv(in_filename)\n",
    "# lines = list(df['text'])\n",
    "# # lines = [l for l in lines]\n",
    "\n",
    "# seq_length = len(lines[0].split(' ')) - 1\n",
    "\n",
    "# lines[:5]\n"
   ]
  },
  {
   "cell_type": "code",
   "execution_count": 58,
   "metadata": {},
   "outputs": [],
   "source": [
    "# seq_length"
   ]
  },
  {
   "cell_type": "code",
   "execution_count": 7,
   "metadata": {},
   "outputs": [
    {
     "name": "stdout",
     "output_type": "stream",
     "text": [
      "_________________________________________________________________\n",
      "Layer (type)                 Output Shape              Param #   \n",
      "=================================================================\n",
      "embedding_1 (Embedding)      (None, 20, 512)           1528320   \n",
      "_________________________________________________________________\n",
      "lstm_1 (LSTM)                (None, 20, 128)           328192    \n",
      "_________________________________________________________________\n",
      "dropout_1 (Dropout)          (None, 20, 128)           0         \n",
      "_________________________________________________________________\n",
      "lstm_2 (LSTM)                (None, 128)               131584    \n",
      "_________________________________________________________________\n",
      "dense_1 (Dense)              (None, 4096)              528384    \n",
      "_________________________________________________________________\n",
      "leaky_re_lu_1 (LeakyReLU)    (None, 4096)              0         \n",
      "_________________________________________________________________\n",
      "batch_normalization_1 (Batch (None, 4096)              16384     \n",
      "_________________________________________________________________\n",
      "dense_2 (Dense)              (None, 2048)              8390656   \n",
      "_________________________________________________________________\n",
      "leaky_re_lu_2 (LeakyReLU)    (None, 2048)              0         \n",
      "_________________________________________________________________\n",
      "dense_3 (Dense)              (None, 2985)              6116265   \n",
      "=================================================================\n",
      "Total params: 17,039,785\n",
      "Trainable params: 17,031,593\n",
      "Non-trainable params: 8,192\n",
      "_________________________________________________________________\n"
     ]
    }
   ],
   "source": [
    "# load the model\n",
    "model = load_model(MALAY_MODEL_PATH)\n",
    "model.summary()"
   ]
  },
  {
   "cell_type": "code",
   "execution_count": 8,
   "metadata": {},
   "outputs": [],
   "source": [
    "# load the tokenizer\n",
    "tokenizer = pickle.load(open(MALAY_TOKENIZER_PATH, 'rb'))"
   ]
  },
  {
   "cell_type": "code",
   "execution_count": 59,
   "metadata": {},
   "outputs": [],
   "source": [
    "# select a seed text\n",
    "# seed_text = lines[randint(0,len(lines))]\n",
    "# print(seed_text + '\\n')"
   ]
  },
  {
   "cell_type": "code",
   "execution_count": 53,
   "metadata": {},
   "outputs": [
    {
     "name": "stdout",
     "output_type": "stream",
     "text": [
      "[(2, 0.9999542), (3, 4.5095752e-05), (430, 6.4308836e-07)]\n",
      "[{'word': 'yang', 'probability': 0.9999542}, {'word': 'dan', 'probability': 4.5095752e-05}, {'word': 'masalah', 'probability': 6.4308836e-07}]\n"
     ]
    }
   ],
   "source": [
    "# generate new text\n",
    "generated = generate_seq(model, tokenizer, 20, '', 1)\n",
    "print(generated)"
   ]
  },
  {
   "cell_type": "code",
   "execution_count": null,
   "metadata": {},
   "outputs": [],
   "source": []
  }
 ],
 "metadata": {
  "kernelspec": {
   "display_name": "Python 3",
   "language": "python",
   "name": "python3"
  },
  "language_info": {
   "codemirror_mode": {
    "name": "ipython",
    "version": 3
   },
   "file_extension": ".py",
   "mimetype": "text/x-python",
   "name": "python",
   "nbconvert_exporter": "python",
   "pygments_lexer": "ipython3",
   "version": "3.5.2"
  }
 },
 "nbformat": 4,
 "nbformat_minor": 2
}
