{
 "cells": [
  {
   "cell_type": "code",
   "execution_count": 1,
   "metadata": {},
   "outputs": [],
   "source": [
    "import pandas as pd\n",
    "import os\n",
    "import random"
   ]
  },
  {
   "cell_type": "code",
   "execution_count": 2,
   "metadata": {},
   "outputs": [],
   "source": [
    "MALAY_TEXT_PATH = 'data/malay/karangan.txt'\n",
    "MALAY_FILE_PATH = 'data/malay/emotion/'"
   ]
  },
  {
   "cell_type": "code",
   "execution_count": 3,
   "metadata": {},
   "outputs": [
    {
     "data": {
      "text/plain": [
       "['data/malay/emotion/translated-sadness.txt',\n",
       " 'data/malay/emotion/translated-love.txt',\n",
       " 'data/malay/emotion/translated-anger.txt',\n",
       " 'data/malay/emotion/translated-surprise.txt',\n",
       " 'data/malay/emotion/translated-joy.txt',\n",
       " 'data/malay/emotion/translated-fear.txt']"
      ]
     },
     "execution_count": 3,
     "metadata": {},
     "output_type": "execute_result"
    }
   ],
   "source": [
    "files = [MALAY_FILE_PATH + f for f in os.listdir(MALAY_FILE_PATH)]\n",
    "files"
   ]
  },
  {
   "cell_type": "code",
   "execution_count": 4,
   "metadata": {},
   "outputs": [],
   "source": [
    "lines = []\n",
    "for fil in files:\n",
    "    with open(fil) as f:\n",
    "        lns = f.read()\n",
    "        lns = lns.split('\\n')\n",
    "        lines += random.sample(lns, 5000)\n",
    "# len(lines)\n",
    "lines[:5]\n",
    "# cleanned_text = list(filter(lambda x: len(x.split(' '))>20, lines))\n",
    "# len(cleanned_text)\n",
    "# cleanned_text[500]\n",
    "df = pd.DataFrame({'text': lines})\n",
    "df.to_csv('data/malay/cleaned-malay-emotions.csv', index=False)"
   ]
  },
  {
   "cell_type": "markdown",
   "metadata": {},
   "source": [
    "# ---- for karangan ----"
   ]
  },
  {
   "cell_type": "code",
   "execution_count": 20,
   "metadata": {},
   "outputs": [],
   "source": [
    "with open(MALAY_TEXT_PATH) as f:\n",
    "    lines = f.read()\n",
    "lines = lines.split('\\n')\n",
    "lines_fullstop_separated = [a.strip() for l in lines for a in l.split('.')]\n",
    "\n",
    "\n",
    "cleanned_text = []\n",
    "exclude_alpha = 'abcdefghijklmnopqrstuvwxyzABCDEFGHIJKLMNOPQRSTUVWXYZ '\n",
    "for row in lines_fullstop_separated:\n",
    "    try:\n",
    "        cleanned_text.append(''.join([s.lower() for s in row if s in exclude_alpha]).strip())\n",
    "    except:\n",
    "        continue\n",
    "        \n",
    "for i in range(len(cleanned_text)):\n",
    "    cleanned_text[i] = ' '.join([t for t in cleanned_text[i].split(' ') if t != ''])\n",
    "    \n",
    "cleanned_text = list(filter(lambda x: len(x)>20, cleanned_text))"
   ]
  },
  {
   "cell_type": "code",
   "execution_count": 24,
   "metadata": {},
   "outputs": [
    {
     "data": {
      "text/plain": [
       "1524"
      ]
     },
     "execution_count": 24,
     "metadata": {},
     "output_type": "execute_result"
    }
   ],
   "source": [
    "for t in cleanned_text:\n",
    "    assert len(t) != 20\n",
    "len(cleanned_text)"
   ]
  },
  {
   "cell_type": "code",
   "execution_count": 27,
   "metadata": {},
   "outputs": [],
   "source": [
    "df = pd.DataFrame({'text': cleanned_text})\n",
    "df.to_csv('cleanned-malay.csv', index=False)"
   ]
  }
 ],
 "metadata": {
  "kernelspec": {
   "display_name": "Python 3",
   "language": "python",
   "name": "python3"
  },
  "language_info": {
   "codemirror_mode": {
    "name": "ipython",
    "version": 3
   },
   "file_extension": ".py",
   "mimetype": "text/x-python",
   "name": "python",
   "nbconvert_exporter": "python",
   "pygments_lexer": "ipython3",
   "version": "3.5.2"
  }
 },
 "nbformat": 4,
 "nbformat_minor": 2
}
